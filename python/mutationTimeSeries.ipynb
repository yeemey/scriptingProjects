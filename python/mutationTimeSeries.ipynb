{
 "cells": [
  {
   "cell_type": "markdown",
   "metadata": {},
   "source": [
    "# Parse mutation data for time series, frequency plots."
   ]
  },
  {
   "cell_type": "markdown",
   "metadata": {},
   "source": [
    "## Problems & Solutions\n",
    "### 1. Inconsistent number of columns in gdiff output files raises error with pandas read_table() function.\n",
    "Solution 1: Use index.html output instead, parse into data structure acceptable by pandas."
   ]
  },
  {
   "cell_type": "code",
   "execution_count": 179,
   "metadata": {
    "collapsed": false
   },
   "outputs": [],
   "source": [
    "import numpy as np\n",
    "import pandas as pd\n",
    "import re\n",
    "import matplotlib.pyplot as plt\n",
    "from bs4 import BeautifulSoup\n",
    "soup = BeautifulSoup(open('/Users/ymseah/Documents/sic_UA3_S2_L001_breseq/output/index.html'), 'html5lib')"
   ]
  },
  {
   "cell_type": "code",
   "execution_count": 180,
   "metadata": {
    "collapsed": false
   },
   "outputs": [],
   "source": [
    "#EXAMPLE ROW\n",
    "#<tr class=\"normal_table_row\">\n",
    "#<td align=\"center\"><a href=\"evidence/INS_1.html\">RA</a></td><!-- Evidence -->\n",
    "#<td align=\"center\">NC_002937</td><!-- Seq_Id -->\n",
    "#<td align=\"right\">42,867</td><!-- Position -->\n",
    "#<td align=\"center\">+G</td><!-- Cell Mutation -->\n",
    "#<td align=\"right\">100%</td>\n",
    "#<td align=\"center\">intergenic (‑125/+57)</td>\n",
    "#<td align=\"center\"><i>DVU0036</i> ← / ← <i>DVU0037</i></td>\n",
    "#<td align=\"left\">hypothetical protein/hypothetical protein</td>\n",
    "#</tr>\n",
    "\n",
    "#get each consensus mode row \n",
    "tr_consensus = soup('tr', 'normal_table_row')\n",
    "cons_ref_genome = [tr.find_all_next('td')[1].text for tr in tr_consensus]\n",
    "cons_mutation_pos = [tr.find_all_next('td')[2].text for tr in tr_consensus]\n",
    "cons_mutation = [tr.find_all_next('td')[3].text for tr in tr_consensus]\n",
    "cons_freq = [tr.find_all_next('td')[4].text for tr in tr_consensus]\n",
    "\n",
    "#get each polymorphism mode row\n",
    "tr_polymorphism = soup('tr', 'polymorphism_table_row')\n",
    "polym_ref_genome = [tr.find_all_next('td')[1].text for tr in tr_polymorphism]\n",
    "polym_mutation_pos = [tr.find_all_next('td')[2].text for tr in tr_polymorphism]\n",
    "polym_mutation = [tr.find_all_next('td')[3].text for tr in tr_polymorphism]\n",
    "polym_freq = [tr.find_all_next('td')[4].text for tr in tr_polymorphism]\n",
    "\n",
    "ref_genome = cons_ref_genome + polym_ref_genome\n",
    "\n",
    "mutation_pos = cons_mutation_pos + polym_mutation_pos\n",
    "clean_mutation_pos = []\n",
    "i = 0\n",
    "while i < len(mutation_pos):\n",
    "    clean_position = re.sub(',', '', mutation_pos[i])\n",
    "    clean_mutation_pos.append(int(clean_position))\n",
    "    i += 1\n",
    "\n",
    "freq = cons_freq + polym_freq\n",
    "clean_freqs = []\n",
    "i = 0\n",
    "while i < len(freq):\n",
    "    clean_freq = re.sub('%', '', freq[i])\n",
    "    clean_freqs.append(float(clean_freq))\n",
    "    i += 1\n",
    "\n",
    "mutation_freq_dict = {'genome': ref_genome, 'position': clean_mutation_pos, 'frequency': clean_freqs}"
   ]
  },
  {
   "cell_type": "code",
   "execution_count": 181,
   "metadata": {
    "collapsed": false
   },
   "outputs": [],
   "source": [
    "df = pd.DataFrame(mutation_freq_dict)\n",
    "DvH = df.loc[df['genome'] == 'NC_002937']\n",
    "#DvHplasmid = df.loc[df['genome'] == 'NC_005863']\n",
    "MmS2 = df.loc[df['genome'] == 'NC_005791']"
   ]
  },
  {
   "cell_type": "code",
   "execution_count": 184,
   "metadata": {
    "collapsed": false
   },
   "outputs": [
    {
     "data": {
      "image/png": "[encoded data removed]",
      "text/plain": [
       "<matplotlib.figure.Figure at 0x11834d278>"
      ]
     },
     "metadata": {},
     "output_type": "display_data"
    }
   ],
   "source": [
    "DvH.plot.scatter(x = 'position', y = 'frequency')\n",
    "plt.title('D. vulgaris Polymorphism Locations and Frequencies')\n",
    "plt.show()"
   ]
  },
  {
   "cell_type": "code",
   "execution_count": 185,
   "metadata": {
    "collapsed": false
   },
   "outputs": [
    {
     "data": {
      "image/png": "[encoded data removed]",
      "text/plain": [
       "<matplotlib.figure.Figure at 0x1181e6b38>"
      ]
     },
     "metadata": {},
     "output_type": "display_data"
    }
   ],
   "source": [
    "MmS2.plot.scatter(x = 'position', y = 'frequency')\n",
    "plt.title('M. maripaludis Polymorphism Locations and Frequencies')\n",
    "plt.show()"
   ]
  },
  {
   "cell_type": "code",
   "execution_count": null,
   "metadata": {
    "collapsed": true
   },
   "outputs": [],
   "source": []
  }
 ],
 "metadata": {
  "anaconda-cloud": {},
  "kernelspec": {
   "display_name": "Python [default]",
   "language": "python",
   "name": "python3"
  },
  "language_info": {
   "codemirror_mode": {
    "name": "ipython",
    "version": 3
   },
   "file_extension": ".py",
   "mimetype": "text/x-python",
   "name": "python",
   "nbconvert_exporter": "python",
   "pygments_lexer": "ipython3",
   "version": "3.5.2"
  }
 },
 "nbformat": 4,
 "nbformat_minor": 1
}
